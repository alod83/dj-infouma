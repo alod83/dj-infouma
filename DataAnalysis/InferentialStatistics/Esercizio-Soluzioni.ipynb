{
 "cells": [
  {
   "cell_type": "markdown",
   "metadata": {},
   "source": [
    "## Esercizio\n",
    "Considerare il dataset `avg_temperature.csv` contenente la temperatura media nel mese di gennaio relativa ad alcune città del Texas. Importare il dataset e memorizzarlo in un DataFrame."
   ]
  },
  {
   "cell_type": "code",
   "execution_count": 1,
   "metadata": {
    "scrolled": false
   },
   "outputs": [
    {
     "data": {
      "text/html": [
       "<div>\n",
       "<style scoped>\n",
       "    .dataframe tbody tr th:only-of-type {\n",
       "        vertical-align: middle;\n",
       "    }\n",
       "\n",
       "    .dataframe tbody tr th {\n",
       "        vertical-align: top;\n",
       "    }\n",
       "\n",
       "    .dataframe thead th {\n",
       "        text-align: right;\n",
       "    }\n",
       "</style>\n",
       "<table border=\"1\" class=\"dataframe\">\n",
       "  <thead>\n",
       "    <tr style=\"text-align: right;\">\n",
       "      <th></th>\n",
       "      <th>City</th>\n",
       "      <th>Temperature</th>\n",
       "      <th>Latitude</th>\n",
       "      <th>Longitude</th>\n",
       "      <th>Elevation</th>\n",
       "    </tr>\n",
       "  </thead>\n",
       "  <tbody>\n",
       "    <tr>\n",
       "      <th>0</th>\n",
       "      <td>Harris</td>\n",
       "      <td>56</td>\n",
       "      <td>29.767</td>\n",
       "      <td>95.367</td>\n",
       "      <td>41</td>\n",
       "    </tr>\n",
       "    <tr>\n",
       "      <th>1</th>\n",
       "      <td>Dallas</td>\n",
       "      <td>48</td>\n",
       "      <td>32.850</td>\n",
       "      <td>96.850</td>\n",
       "      <td>440</td>\n",
       "    </tr>\n",
       "    <tr>\n",
       "      <th>2</th>\n",
       "      <td>Kennedy</td>\n",
       "      <td>60</td>\n",
       "      <td>26.933</td>\n",
       "      <td>97.800</td>\n",
       "      <td>25</td>\n",
       "    </tr>\n",
       "    <tr>\n",
       "      <th>3</th>\n",
       "      <td>Midland</td>\n",
       "      <td>46</td>\n",
       "      <td>31.950</td>\n",
       "      <td>102.183</td>\n",
       "      <td>2851</td>\n",
       "    </tr>\n",
       "    <tr>\n",
       "      <th>4</th>\n",
       "      <td>Deaf Smith</td>\n",
       "      <td>38</td>\n",
       "      <td>34.800</td>\n",
       "      <td>102.467</td>\n",
       "      <td>3840</td>\n",
       "    </tr>\n",
       "    <tr>\n",
       "      <th>5</th>\n",
       "      <td>Knox</td>\n",
       "      <td>46</td>\n",
       "      <td>33.450</td>\n",
       "      <td>99.633</td>\n",
       "      <td>1461</td>\n",
       "    </tr>\n",
       "    <tr>\n",
       "      <th>6</th>\n",
       "      <td>Maverick</td>\n",
       "      <td>53</td>\n",
       "      <td>28.700</td>\n",
       "      <td>100.483</td>\n",
       "      <td>815</td>\n",
       "    </tr>\n",
       "    <tr>\n",
       "      <th>7</th>\n",
       "      <td>Nolan</td>\n",
       "      <td>46</td>\n",
       "      <td>32.450</td>\n",
       "      <td>100.533</td>\n",
       "      <td>2380</td>\n",
       "    </tr>\n",
       "    <tr>\n",
       "      <th>8</th>\n",
       "      <td>El Paso</td>\n",
       "      <td>44</td>\n",
       "      <td>31.800</td>\n",
       "      <td>106.400</td>\n",
       "      <td>3918</td>\n",
       "    </tr>\n",
       "    <tr>\n",
       "      <th>9</th>\n",
       "      <td>Collington</td>\n",
       "      <td>41</td>\n",
       "      <td>34.850</td>\n",
       "      <td>100.217</td>\n",
       "      <td>2040</td>\n",
       "    </tr>\n",
       "    <tr>\n",
       "      <th>10</th>\n",
       "      <td>Pecos</td>\n",
       "      <td>47</td>\n",
       "      <td>30.867</td>\n",
       "      <td>102.900</td>\n",
       "      <td>3000</td>\n",
       "    </tr>\n",
       "    <tr>\n",
       "      <th>11</th>\n",
       "      <td>Sherman</td>\n",
       "      <td>36</td>\n",
       "      <td>36.350</td>\n",
       "      <td>102.083</td>\n",
       "      <td>3693</td>\n",
       "    </tr>\n",
       "    <tr>\n",
       "      <th>12</th>\n",
       "      <td>Travis</td>\n",
       "      <td>52</td>\n",
       "      <td>30.300</td>\n",
       "      <td>97.700</td>\n",
       "      <td>597</td>\n",
       "    </tr>\n",
       "    <tr>\n",
       "      <th>13</th>\n",
       "      <td>Zapata</td>\n",
       "      <td>60</td>\n",
       "      <td>26.900</td>\n",
       "      <td>99.283</td>\n",
       "      <td>315</td>\n",
       "    </tr>\n",
       "    <tr>\n",
       "      <th>14</th>\n",
       "      <td>Lasalle</td>\n",
       "      <td>56</td>\n",
       "      <td>28.450</td>\n",
       "      <td>99.217</td>\n",
       "      <td>459</td>\n",
       "    </tr>\n",
       "    <tr>\n",
       "      <th>15</th>\n",
       "      <td>Cameron</td>\n",
       "      <td>62</td>\n",
       "      <td>25.900</td>\n",
       "      <td>97.433</td>\n",
       "      <td>19</td>\n",
       "    </tr>\n",
       "  </tbody>\n",
       "</table>\n",
       "</div>"
      ],
      "text/plain": [
       "          City  Temperature  Latitude  Longitude  Elevation\n",
       "0       Harris           56    29.767     95.367         41\n",
       "1       Dallas           48    32.850     96.850        440\n",
       "2      Kennedy           60    26.933     97.800         25\n",
       "3      Midland           46    31.950    102.183       2851\n",
       "4   Deaf Smith           38    34.800    102.467       3840\n",
       "5         Knox           46    33.450     99.633       1461\n",
       "6     Maverick           53    28.700    100.483        815\n",
       "7        Nolan           46    32.450    100.533       2380\n",
       "8      El Paso           44    31.800    106.400       3918\n",
       "9   Collington           41    34.850    100.217       2040\n",
       "10       Pecos           47    30.867    102.900       3000\n",
       "11     Sherman           36    36.350    102.083       3693\n",
       "12      Travis           52    30.300     97.700        597\n",
       "13      Zapata           60    26.900     99.283        315\n",
       "14     Lasalle           56    28.450     99.217        459\n",
       "15     Cameron           62    25.900     97.433         19"
      ]
     },
     "execution_count": 1,
     "metadata": {},
     "output_type": "execute_result"
    }
   ],
   "source": [
    "import pandas as pd\n",
    "df = pd.read_csv('data/avg_temperature.csv')\n",
    "df"
   ]
  },
  {
   "cell_type": "markdown",
   "metadata": {},
   "source": [
    "## Scelta del modello\n",
    "Modellare il variare della temperatura al variare dell'altitudine. Scegliere quindi le variabili `X` e `y`."
   ]
  },
  {
   "cell_type": "code",
   "execution_count": 7,
   "metadata": {},
   "outputs": [],
   "source": [
    "import numpy as np\n",
    "X = np.array(df['Elevation']).reshape(-1,1)\n",
    "y = np.array(df['Temperature'])"
   ]
  },
  {
   "cell_type": "markdown",
   "metadata": {},
   "source": [
    "Dividere il dataset in training e test set."
   ]
  },
  {
   "cell_type": "code",
   "execution_count": 14,
   "metadata": {},
   "outputs": [],
   "source": [
    "from sklearn.model_selection import train_test_split \n",
    "from sklearn import preprocessing\n",
    "X_scaled = preprocessing.scale(X)\n",
    "\n",
    "X_train, X_test, y_train, y_test = train_test_split(X_scaled, y, test_size=0.2, random_state=0)"
   ]
  },
  {
   "cell_type": "markdown",
   "metadata": {},
   "source": [
    "Utilizzare una regressione logistica per la rappresentazione dei dati. Per i dettagli, consultare la documentazione: https://scikit-learn.org/stable/modules/generated/sklearn.linear_model.LogisticRegression.html. Se necessario, consultare anche questo link:https://scikit-learn.org/stable/modules/preprocessing.html"
   ]
  },
  {
   "cell_type": "code",
   "execution_count": 15,
   "metadata": {},
   "outputs": [],
   "source": [
    "from sklearn.linear_model import LogisticRegression\n",
    "\n",
    "\n",
    "model = LogisticRegression(random_state=0).fit(X_train, y_train)\n"
   ]
  },
  {
   "cell_type": "markdown",
   "metadata": {},
   "source": [
    "Fittare il modello e predire i risultati"
   ]
  },
  {
   "cell_type": "code",
   "execution_count": 29,
   "metadata": {},
   "outputs": [],
   "source": [
    "y_pred = model.predict(X_test)"
   ]
  },
  {
   "cell_type": "markdown",
   "metadata": {},
   "source": [
    "Graficare i risultati."
   ]
  },
  {
   "cell_type": "code",
   "execution_count": 31,
   "metadata": {},
   "outputs": [
    {
     "data": {
      "image/png": "[encoded data removed]",
      "text/plain": [
       "<Figure size 432x288 with 1 Axes>"
      ]
     },
     "metadata": {
      "needs_background": "light"
     },
     "output_type": "display_data"
    }
   ],
   "source": [
    "import matplotlib.pyplot as plt\n",
    "plt.scatter(X_test, y_test,  color='green', label='test')\n",
    "plt.scatter(X_test, y_pred, color='red', linewidth=2, label='prediction')\n",
    "plt.legend()\n",
    "\n",
    "plt.show()"
   ]
  },
  {
   "cell_type": "markdown",
   "metadata": {},
   "source": [
    "## Stima degli errori\n",
    "Calcolare l'errore commesso dal modello in termini di Mean Absolute Error, Mean Squared Error e Root Mean Squared Error. Il modello è rappresentativo dei dati?"
   ]
  },
  {
   "cell_type": "code",
   "execution_count": 32,
   "metadata": {},
   "outputs": [
    {
     "name": "stdout",
     "output_type": "stream",
     "text": [
      "Mean Absolute Error: 5.5\n",
      "Mean Squared Error: 45.5\n",
      "Root Mean Squared Error: 6.745368781616021\n"
     ]
    }
   ],
   "source": [
    "from sklearn import metrics\n",
    "print('Mean Absolute Error:', metrics.mean_absolute_error(y_test, y_pred))  \n",
    "print('Mean Squared Error:', metrics.mean_squared_error(y_test, y_pred))  \n",
    "print('Root Mean Squared Error:', np.sqrt(metrics.mean_squared_error(y_test, y_pred)))"
   ]
  },
  {
   "cell_type": "code",
   "execution_count": null,
   "metadata": {},
   "outputs": [],
   "source": []
  }
 ],
 "metadata": {
  "kernelspec": {
   "display_name": "Python 3",
   "language": "python",
   "name": "python3"
  },
  "language_info": {
   "codemirror_mode": {
    "name": "ipython",
    "version": 3
   },
   "file_extension": ".py",
   "mimetype": "text/x-python",
   "name": "python",
   "nbconvert_exporter": "python",
   "pygments_lexer": "ipython3",
   "version": "3.8.1"
  }
 },
 "nbformat": 4,
 "nbformat_minor": 4
}
