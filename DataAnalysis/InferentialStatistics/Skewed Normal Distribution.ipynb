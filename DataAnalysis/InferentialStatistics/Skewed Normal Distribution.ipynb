{
 "cells": [
  {
   "cell_type": "markdown",
   "metadata": {},
   "source": [
    "# Skewed Normal Distribution\n",
    "This notebook analyses data related to the Italian COVID-19 trend. Data are released by the Italian Protezione Civile. The general concepts behind this predictor are described in the following article: https://medium.com/@angelica.loduca/predicting-the-end-of-the-coronavirus-epidemics-in-italy-8da9811f7740. With respect to my [previous article](https://towardsdatascience.com/italian-covid-19-analysis-with-python-1bdb0e64d5ac), where I used a linear regression to approximate data, in this article we approximate EPI through a skewed normal distribution, which seems to work better than linear regression.\n",
    "\n",
    "## Getting Started\n",
    "Firstly, we import data from the Github repository of the Italian Protezione Civile and then we calculate the Epidemics Progression Index (EPI). We extract columns `totale_casi`, which contains the total number of covid-19 infections since the epidemics began, and `tamponi`, which contains the total number of covid-19 swabs since the epidemics began. We store EPI in the `y` variable. Finally, we print all the list of dates for which we have data (`data['data']`)."
   ]
  },
  {
   "cell_type": "code",
   "execution_count": 283,
   "metadata": {
    "scrolled": true
   },
   "outputs": [
    {
     "data": {
      "text/html": [
       "<div>\n",
       "<style scoped>\n",
       "    .dataframe tbody tr th:only-of-type {\n",
       "        vertical-align: middle;\n",
       "    }\n",
       "\n",
       "    .dataframe tbody tr th {\n",
       "        vertical-align: top;\n",
       "    }\n",
       "\n",
       "    .dataframe thead th {\n",
       "        text-align: right;\n",
       "    }\n",
       "</style>\n",
       "<table border=\"1\" class=\"dataframe\">\n",
       "  <thead>\n",
       "    <tr style=\"text-align: right;\">\n",
       "      <th></th>\n",
       "      <th>data</th>\n",
       "      <th>stato</th>\n",
       "      <th>ricoverati_con_sintomi</th>\n",
       "      <th>terapia_intensiva</th>\n",
       "      <th>totale_ospedalizzati</th>\n",
       "      <th>isolamento_domiciliare</th>\n",
       "      <th>totale_positivi</th>\n",
       "      <th>variazione_totale_positivi</th>\n",
       "      <th>nuovi_positivi</th>\n",
       "      <th>dimessi_guariti</th>\n",
       "      <th>deceduti</th>\n",
       "      <th>totale_casi</th>\n",
       "      <th>tamponi</th>\n",
       "      <th>casi_testati</th>\n",
       "      <th>note_it</th>\n",
       "      <th>note_en</th>\n",
       "    </tr>\n",
       "  </thead>\n",
       "  <tbody>\n",
       "    <tr>\n",
       "      <th>0</th>\n",
       "      <td>2020-02-24T18:00:00</td>\n",
       "      <td>ITA</td>\n",
       "      <td>101</td>\n",
       "      <td>26</td>\n",
       "      <td>127</td>\n",
       "      <td>94</td>\n",
       "      <td>221</td>\n",
       "      <td>0</td>\n",
       "      <td>221</td>\n",
       "      <td>1</td>\n",
       "      <td>7</td>\n",
       "      <td>229</td>\n",
       "      <td>4324</td>\n",
       "      <td>NaN</td>\n",
       "      <td>NaN</td>\n",
       "      <td>NaN</td>\n",
       "    </tr>\n",
       "    <tr>\n",
       "      <th>1</th>\n",
       "      <td>2020-02-25T18:00:00</td>\n",
       "      <td>ITA</td>\n",
       "      <td>114</td>\n",
       "      <td>35</td>\n",
       "      <td>150</td>\n",
       "      <td>162</td>\n",
       "      <td>311</td>\n",
       "      <td>90</td>\n",
       "      <td>93</td>\n",
       "      <td>1</td>\n",
       "      <td>10</td>\n",
       "      <td>322</td>\n",
       "      <td>8623</td>\n",
       "      <td>NaN</td>\n",
       "      <td>NaN</td>\n",
       "      <td>NaN</td>\n",
       "    </tr>\n",
       "    <tr>\n",
       "      <th>2</th>\n",
       "      <td>2020-02-26T18:00:00</td>\n",
       "      <td>ITA</td>\n",
       "      <td>128</td>\n",
       "      <td>36</td>\n",
       "      <td>164</td>\n",
       "      <td>221</td>\n",
       "      <td>385</td>\n",
       "      <td>74</td>\n",
       "      <td>78</td>\n",
       "      <td>3</td>\n",
       "      <td>12</td>\n",
       "      <td>400</td>\n",
       "      <td>9587</td>\n",
       "      <td>NaN</td>\n",
       "      <td>NaN</td>\n",
       "      <td>NaN</td>\n",
       "    </tr>\n",
       "    <tr>\n",
       "      <th>3</th>\n",
       "      <td>2020-02-27T18:00:00</td>\n",
       "      <td>ITA</td>\n",
       "      <td>248</td>\n",
       "      <td>56</td>\n",
       "      <td>304</td>\n",
       "      <td>284</td>\n",
       "      <td>588</td>\n",
       "      <td>203</td>\n",
       "      <td>250</td>\n",
       "      <td>45</td>\n",
       "      <td>17</td>\n",
       "      <td>650</td>\n",
       "      <td>12014</td>\n",
       "      <td>NaN</td>\n",
       "      <td>NaN</td>\n",
       "      <td>NaN</td>\n",
       "    </tr>\n",
       "    <tr>\n",
       "      <th>4</th>\n",
       "      <td>2020-02-28T18:00:00</td>\n",
       "      <td>ITA</td>\n",
       "      <td>345</td>\n",
       "      <td>64</td>\n",
       "      <td>409</td>\n",
       "      <td>412</td>\n",
       "      <td>821</td>\n",
       "      <td>233</td>\n",
       "      <td>238</td>\n",
       "      <td>46</td>\n",
       "      <td>21</td>\n",
       "      <td>888</td>\n",
       "      <td>15695</td>\n",
       "      <td>NaN</td>\n",
       "      <td>NaN</td>\n",
       "      <td>NaN</td>\n",
       "    </tr>\n",
       "  </tbody>\n",
       "</table>\n",
       "</div>"
      ],
      "text/plain": [
       "                  data stato  ricoverati_con_sintomi  terapia_intensiva  \\\n",
       "0  2020-02-24T18:00:00   ITA                     101                 26   \n",
       "1  2020-02-25T18:00:00   ITA                     114                 35   \n",
       "2  2020-02-26T18:00:00   ITA                     128                 36   \n",
       "3  2020-02-27T18:00:00   ITA                     248                 56   \n",
       "4  2020-02-28T18:00:00   ITA                     345                 64   \n",
       "\n",
       "   totale_ospedalizzati  isolamento_domiciliare  totale_positivi  \\\n",
       "0                   127                      94              221   \n",
       "1                   150                     162              311   \n",
       "2                   164                     221              385   \n",
       "3                   304                     284              588   \n",
       "4                   409                     412              821   \n",
       "\n",
       "   variazione_totale_positivi  nuovi_positivi  dimessi_guariti  deceduti  \\\n",
       "0                           0             221                1         7   \n",
       "1                          90              93                1        10   \n",
       "2                          74              78                3        12   \n",
       "3                         203             250               45        17   \n",
       "4                         233             238               46        21   \n",
       "\n",
       "   totale_casi  tamponi  casi_testati note_it note_en  \n",
       "0          229     4324           NaN     NaN     NaN  \n",
       "1          322     8623           NaN     NaN     NaN  \n",
       "2          400     9587           NaN     NaN     NaN  \n",
       "3          650    12014           NaN     NaN     NaN  \n",
       "4          888    15695           NaN     NaN     NaN  "
      ]
     },
     "execution_count": 283,
     "metadata": {},
     "output_type": "execute_result"
    }
   ],
   "source": [
    "import pandas as pd \n",
    "\n",
    "data = pd.read_csv(\"https://raw.githubusercontent.com/pcm-dpc/COVID-19/master/dati-andamento-nazionale/dpc-covid19-ita-andamento-nazionale.csv\") \n",
    "data.head()"
   ]
  },
  {
   "cell_type": "markdown",
   "metadata": {},
   "source": [
    "Then, we calculate the metrics to analyse: Epidemics Progresion Index (EPI) and we store it in the `y` variable. We define also `X` to store number of days. Finally, we skip the first 15 days, to consider the effects of restriction laws."
   ]
  },
  {
   "cell_type": "code",
   "execution_count": 210,
   "metadata": {},
   "outputs": [],
   "source": [
    "tc = data['totale_casi']\n",
    "tt = data['tamponi']\n",
    "y = []\n",
    "tt_increase = []\n",
    "for i in range(1, len(tt)):\n",
    "    current_epi = (tc[i] - tc[i-1])/(tt[i]-tt[i-1])\n",
    "    tt_increase.append(tt[i]-tt[i-1])\n",
    "    y.append(current_epi)\n",
    "\n",
    "X = []\n",
    "for i in range(1, len(y)+1):\n",
    "    X.append(i)\n",
    "\n",
    "skip = 15\n",
    "X = X[skip:]\n",
    "y = y[skip:]"
   ]
  },
  {
   "cell_type": "markdown",
   "metadata": {},
   "source": [
    "Now we can plot the EPI trend."
   ]
  },
  {
   "cell_type": "code",
   "execution_count": 211,
   "metadata": {},
   "outputs": [
    {
     "data": {
      "image/png": "[encoded data removed]",
      "text/plain": [
       "<Figure size 432x288 with 1 Axes>"
      ]
     },
     "metadata": {
      "needs_background": "light"
     },
     "output_type": "display_data"
    }
   ],
   "source": [
    "import matplotlib.pyplot as plt\n",
    "import matplotlib\n",
    "import numpy as np\n",
    "\n",
    "\n",
    "def my_plot(X,y):\n",
    "    plt.plot(X, y, color=\"black\", linewidth=1)\n",
    "\n",
    "    plt.grid()\n",
    "    plt.xlabel('Number of days')\n",
    "    plt.ylabel('EPI')\n",
    "    plt.show()\n",
    "\n",
    "my_plot(X,y)"
   ]
  },
  {
   "cell_type": "markdown",
   "metadata": {},
   "source": [
    "## Extract a sample\n",
    "In order to test the model, we split `X` and `y` in `X_train` and `y_train`. We will train the model on the train variables and test will be done on the test variables."
   ]
  },
  {
   "cell_type": "code",
   "execution_count": 212,
   "metadata": {},
   "outputs": [],
   "source": [
    "from sklearn.model_selection import train_test_split \n",
    "\n",
    "X_train, X_test, y_train, y_test = train_test_split(X, y, test_size=0.2, random_state=0)"
   ]
  },
  {
   "cell_type": "markdown",
   "metadata": {},
   "source": [
    "## Model Definition\n",
    "We can approximate data through a skewed normal distribution. We tranform `X` and `y` into numpy arrays and we define a function, called `skewnorm()`, which contains the formula of the skewed normal distribution. I found the formula [here](https://stackoverflow.com/questions/15400850/scipy-optimize-curve-fit-unable-to-fit-shifted-skewed-gaussian-curve). Give a look [here](https://www.vosesoftware.com/riskwiki/SkewNormaldistribution.php) for more details about the skewed normal distribution. Alternatively, we could use the function `scipy.stats.skewnorm`, defined [here](https://docs.scipy.org/doc/scipy/reference/generated/scipy.stats.skewnorm.html), [here](https://kite.com/python/docs/scipy.stats.norm) and [here](https://www.geeksforgeeks.org/python-skew-normal-distribution-in-statistics/)."
   ]
  },
  {
   "cell_type": "code",
   "execution_count": 284,
   "metadata": {},
   "outputs": [],
   "source": [
    "import numpy as np\n",
    "import math\n",
    "from scipy.optimize import curve_fit\n",
    "import scipy.special as sp\n",
    "\n",
    "X = np.array(X)\n",
    "y = np.array(y)\n",
    "\n",
    "\n",
    "def skewnorm(x, sigmag, mu, alpha, c,a):\n",
    "    \n",
    "    normpdf = (1/(sigmag*np.sqrt(2*math.pi)))*np.exp(-(np.power((x-mu),2)/(2*np.power(sigmag,2))))\n",
    "    \n",
    "    normcdf = (0.5*(1+sp.erf((alpha*((x-mu)/sigmag))/(np.sqrt(2)))))\n",
    "    return 2*a*normpdf*normcdf + c\n",
    "\n"
   ]
  },
  {
   "cell_type": "markdown",
   "metadata": {},
   "source": [
    "Now we are able to fit the model with the training data through the `scipy` function `curve_fit()`. Curve fitting is the process of constructing a curve, or mathematical function, that has the best fit to a series of data points. The `curve_fit()` function takes the samples as input, as well as the initial parameters. The function returns the best parameters `popt` and the covariance matrix `pcov` as output."
   ]
  },
  {
   "cell_type": "code",
   "execution_count": null,
   "metadata": {},
   "outputs": [],
   "source": [
    "popt, pcov = curve_fit(skewnorm, X_train, y_train, p0=(1./np.std(y_train), np.mean(y_train) ,0,0,0))"
   ]
  },
  {
   "cell_type": "markdown",
   "metadata": {},
   "source": [
    "After fitting, we plot results for the training set. We calculate the prediction `y_train_pred` simply calling the function `skewnorm()` with the parameters returned by the `curve_fit()` function."
   ]
  },
  {
   "cell_type": "code",
   "execution_count": 285,
   "metadata": {},
   "outputs": [
    {
     "data": {
      "image/png": "[encoded data removed]",
      "text/plain": [
       "<Figure size 432x288 with 1 Axes>"
      ]
     },
     "metadata": {
      "needs_background": "light"
     },
     "output_type": "display_data"
    }
   ],
   "source": [
    "y_train_pred = skewnorm(X_train,*popt) \n",
    "\n",
    "plt.scatter(X_train, y_train, color=\"black\", linewidth=1, label='train')\n",
    "plt.scatter(X_train, y_train_pred, color=\"red\", linewidth=1, label='model')\n",
    "plt.grid()\n",
    "plt.legend()\n",
    "plt.xlabel('Number of days')\n",
    "plt.ylabel('EPI')\n",
    "plt.show()"
   ]
  },
  {
   "cell_type": "markdown",
   "metadata": {},
   "source": [
    "## Model Evaluation\n",
    "We test the model on the remaining part of `X`, i.e. `X_test`. We apply the function `skewnorm()` to `X_test`. "
   ]
  },
  {
   "cell_type": "code",
   "execution_count": 286,
   "metadata": {},
   "outputs": [],
   "source": [
    "y_pred = skewnorm(X_test,*popt)"
   ]
  },
  {
   "cell_type": "markdown",
   "metadata": {},
   "source": [
    "We compare predicted values, with actual values."
   ]
  },
  {
   "cell_type": "code",
   "execution_count": 287,
   "metadata": {},
   "outputs": [
    {
     "data": {
      "text/html": [
       "<div>\n",
       "<style scoped>\n",
       "    .dataframe tbody tr th:only-of-type {\n",
       "        vertical-align: middle;\n",
       "    }\n",
       "\n",
       "    .dataframe tbody tr th {\n",
       "        vertical-align: top;\n",
       "    }\n",
       "\n",
       "    .dataframe thead th {\n",
       "        text-align: right;\n",
       "    }\n",
       "</style>\n",
       "<table border=\"1\" class=\"dataframe\">\n",
       "  <thead>\n",
       "    <tr style=\"text-align: right;\">\n",
       "      <th></th>\n",
       "      <th>Actual</th>\n",
       "      <th>Predicted</th>\n",
       "    </tr>\n",
       "  </thead>\n",
       "  <tbody>\n",
       "    <tr>\n",
       "      <th>0</th>\n",
       "      <td>0.074226</td>\n",
       "      <td>0.092096</td>\n",
       "    </tr>\n",
       "    <tr>\n",
       "      <th>1</th>\n",
       "      <td>0.085873</td>\n",
       "      <td>0.070353</td>\n",
       "    </tr>\n",
       "    <tr>\n",
       "      <th>2</th>\n",
       "      <td>0.073857</td>\n",
       "      <td>0.081997</td>\n",
       "    </tr>\n",
       "    <tr>\n",
       "      <th>3</th>\n",
       "      <td>0.228241</td>\n",
       "      <td>0.279068</td>\n",
       "    </tr>\n",
       "    <tr>\n",
       "      <th>4</th>\n",
       "      <td>0.212904</td>\n",
       "      <td>0.173161</td>\n",
       "    </tr>\n",
       "    <tr>\n",
       "      <th>5</th>\n",
       "      <td>0.220810</td>\n",
       "      <td>0.247001</td>\n",
       "    </tr>\n",
       "    <tr>\n",
       "      <th>6</th>\n",
       "      <td>0.053406</td>\n",
       "      <td>0.053488</td>\n",
       "    </tr>\n",
       "    <tr>\n",
       "      <th>7</th>\n",
       "      <td>0.082920</td>\n",
       "      <td>0.077674</td>\n",
       "    </tr>\n",
       "    <tr>\n",
       "      <th>8</th>\n",
       "      <td>0.117260</td>\n",
       "      <td>0.134936</td>\n",
       "    </tr>\n",
       "    <tr>\n",
       "      <th>9</th>\n",
       "      <td>0.248975</td>\n",
       "      <td>0.256744</td>\n",
       "    </tr>\n",
       "  </tbody>\n",
       "</table>\n",
       "</div>"
      ],
      "text/plain": [
       "     Actual  Predicted\n",
       "0  0.074226   0.092096\n",
       "1  0.085873   0.070353\n",
       "2  0.073857   0.081997\n",
       "3  0.228241   0.279068\n",
       "4  0.212904   0.173161\n",
       "5  0.220810   0.247001\n",
       "6  0.053406   0.053488\n",
       "7  0.082920   0.077674\n",
       "8  0.117260   0.134936\n",
       "9  0.248975   0.256744"
      ]
     },
     "execution_count": 287,
     "metadata": {},
     "output_type": "execute_result"
    }
   ],
   "source": [
    "df = pd.DataFrame({'Actual': np.array(y_test).flatten(), 'Predicted': y_pred.flatten()})\n",
    "df"
   ]
  },
  {
   "cell_type": "markdown",
   "metadata": {},
   "source": [
    "We calculate all the evaluation metrics. Please, give a look at: https://www.datavedas.com/model-evaluation-regression-models/ for more details.\n",
    "\n",
    "We want the value of RMSE to be as low as possible, as lower the RMSE value is, the better the model is with its predictions."
   ]
  },
  {
   "cell_type": "code",
   "execution_count": 288,
   "metadata": {},
   "outputs": [
    {
     "name": "stdout",
     "output_type": "stream",
     "text": [
      "Mean Absolute Error: 0.018906418551917548\n",
      "Mean Squared Error: 0.0005875686759848301\n",
      "Root Mean Squared Error: 0.024239815923080565\n"
     ]
    }
   ],
   "source": [
    "from sklearn import metrics\n",
    "print('Mean Absolute Error:', metrics.mean_absolute_error(y_test, y_pred))  \n",
    "print('Mean Squared Error:', metrics.mean_squared_error(y_test, y_pred))  \n",
    "print('Root Mean Squared Error:', np.sqrt(metrics.mean_squared_error(y_test, y_pred)))"
   ]
  },
  {
   "cell_type": "markdown",
   "metadata": {},
   "source": [
    "We calculate also the Pearsons correlation coefficient to establish whether between the actual and predicted values there is a correlation. We use the `pearsonr()` function contained in the `stats` library. This function returns the Pearsons correlation coefficient as first parameter and the p-value as second parameter.\n",
    "\n",
    "### Pearsons Correlation Coefficient\n",
    "Perfect: If the value is near ± 1, then it said to be a perfect correlation: as one variable increases, the other variable tends to also increase (if positive) or decrease (if negative).\n",
    "\n",
    "High degree: If the coefficient value lies between ± 0.50 and ± 1, then it is said to be a strong correlation. Moderate degree: If the value lies between ± 0.30 and ± 0.49, then it is said to be a medium correlation. Low degree: When the value lies below + .29, then it is said to be a small correlation. No correlation: When the value is zero.\n",
    "Related Page: https://www.statisticssolutions.com/pearsons-correlation-coefficient/ \n",
    "\n",
    "### P-value\n",
    "We want to keep it as small as possible. Related page: https://it.wikipedia.org/wiki/Valore_p"
   ]
  },
  {
   "cell_type": "code",
   "execution_count": 249,
   "metadata": {},
   "outputs": [
    {
     "data": {
      "text/plain": [
       "(0.960573970542586, 1.0078906799992487e-05)"
      ]
     },
     "execution_count": 249,
     "metadata": {},
     "output_type": "execute_result"
    }
   ],
   "source": [
    "from scipy import stats\n",
    "\n",
    "stats.pearsonr(y_test, y_pred)"
   ]
  },
  {
   "cell_type": "markdown",
   "metadata": {},
   "source": [
    "## Extend the model to the whole population\n",
    "The whole population is composed of `X` and `y`. We calculate `y_pred` by applying the `skewnorm()` function to `X`. Then we plot results."
   ]
  },
  {
   "cell_type": "code",
   "execution_count": 289,
   "metadata": {},
   "outputs": [
    {
     "data": {
      "image/png": "[encoded data removed]",
      "text/plain": [
       "<Figure size 432x288 with 1 Axes>"
      ]
     },
     "metadata": {
      "needs_background": "light"
     },
     "output_type": "display_data"
    }
   ],
   "source": [
    "y_pred = skewnorm(X,*popt)\n",
    "plt.scatter(X_train, y_train, color=\"gray\", label='train')\n",
    "plt.scatter(X_test, y_test,  color='green', label='test')\n",
    "plt.plot(X, y_pred, color='red', linewidth=2, label='prediction')\n",
    "plt.legend()\n",
    "\n",
    "plt.show()"
   ]
  },
  {
   "cell_type": "markdown",
   "metadata": {},
   "source": [
    "## Future Trend Prediction\n",
    "Now we try to predict the future trend for the next 50 days. We build a list `X_future` starting from the last day + 1 contained in `X`. Then we apply the function `skewnorm()` to `X_future` and we plot results."
   ]
  },
  {
   "cell_type": "code",
   "execution_count": 254,
   "metadata": {},
   "outputs": [
    {
     "data": {
      "image/png": "[encoded data removed]",
      "text/plain": [
       "<Figure size 432x288 with 1 Axes>"
      ]
     },
     "metadata": {
      "needs_background": "light"
     },
     "output_type": "display_data"
    }
   ],
   "source": [
    "X_future = []\n",
    "n_start = skip+len(X)\n",
    "for i in range(n_start, n_start + 50):\n",
    "    X_future.append([i])\n",
    "\n",
    "y_future = skewnorm(X_future,*popt)\n",
    "\n",
    "plt.scatter(X_train, y_train, color=\"gray\", label='train')\n",
    "plt.scatter(X_test, y_test,  color='green', label='test')\n",
    "plt.plot(X_future, y_future, color='red', linewidth=2, label='prediction')\n",
    "plt.legend()\n",
    "plt.grid()\n",
    "plt.show()"
   ]
  },
  {
   "cell_type": "code",
   "execution_count": 255,
   "metadata": {},
   "outputs": [
    {
     "data": {
      "text/plain": [
       "array([[0.05097314],\n",
       "       [0.0505846 ],\n",
       "       [0.05026482],\n",
       "       [0.05000295],\n",
       "       [0.04978957],\n",
       "       [0.04961658],\n",
       "       [0.04947702],\n",
       "       [0.049365  ],\n",
       "       [0.04927552],\n",
       "       [0.04920441],\n",
       "       [0.04914816],\n",
       "       [0.0491039 ],\n",
       "       [0.04906924],\n",
       "       [0.04904222],\n",
       "       [0.04902127],\n",
       "       [0.0490051 ],\n",
       "       [0.04899268],\n",
       "       [0.04898319],\n",
       "       [0.04897597],\n",
       "       [0.04897051],\n",
       "       [0.04896639],\n",
       "       [0.04896331],\n",
       "       [0.04896101],\n",
       "       [0.0489593 ],\n",
       "       [0.04895804],\n",
       "       [0.04895711],\n",
       "       [0.04895643],\n",
       "       [0.04895594],\n",
       "       [0.04895558],\n",
       "       [0.04895532],\n",
       "       [0.04895513],\n",
       "       [0.048955  ],\n",
       "       [0.0489549 ],\n",
       "       [0.04895484],\n",
       "       [0.04895479],\n",
       "       [0.04895476],\n",
       "       [0.04895474],\n",
       "       [0.04895472],\n",
       "       [0.04895471],\n",
       "       [0.0489547 ],\n",
       "       [0.0489547 ],\n",
       "       [0.04895469],\n",
       "       [0.04895469],\n",
       "       [0.04895469],\n",
       "       [0.04895469],\n",
       "       [0.04895469],\n",
       "       [0.04895469],\n",
       "       [0.04895469],\n",
       "       [0.04895468],\n",
       "       [0.04895468]])"
      ]
     },
     "execution_count": 255,
     "metadata": {},
     "output_type": "execute_result"
    }
   ],
   "source": [
    "y_future"
   ]
  },
  {
   "cell_type": "markdown",
   "metadata": {},
   "source": [
    "Now, we can predict the end of COVID-19 outbreak. This will occur when the value of y is equal to the offset `c`, defined in the skewnorm formula (`y[i] = c`). Since `c` is a float number, we convert it to int, after having shifted the comma. The value of `c` is contained in the `popt` variable, returned by the `curve_fit()`. We convert also `y_future` to int, by apply the same technique of `c`. Finally, we use the function `np.where()` to find the index `i` such that `y[i] = c`. "
   ]
  },
  {
   "cell_type": "code",
   "execution_count": 272,
   "metadata": {},
   "outputs": [
    {
     "data": {
      "text/plain": [
       "(array([48, 49]),)"
      ]
     },
     "execution_count": 272,
     "metadata": {},
     "output_type": "execute_result"
    }
   ],
   "source": [
    "c = int(popt[3]*10**9)\n",
    "y_search = np.array([int(i*10**9) for i in y_future])\n",
    "i = np.where(y_search == c)\n",
    "i"
   ]
  },
  {
   "cell_type": "markdown",
   "metadata": {},
   "source": [
    "We obtain two indexes, we take the first and we store it in `x0`."
   ]
  },
  {
   "cell_type": "code",
   "execution_count": 280,
   "metadata": {},
   "outputs": [
    {
     "data": {
      "text/plain": [
       "array([0.04895468])"
      ]
     },
     "execution_count": 280,
     "metadata": {},
     "output_type": "execute_result"
    }
   ],
   "source": [
    "x0 = i[0][0] + n_start\n",
    "y_future[i[0][0]]"
   ]
  },
  {
   "cell_type": "code",
   "execution_count": 281,
   "metadata": {},
   "outputs": [
    {
     "data": {
      "text/plain": [
       "48954684"
      ]
     },
     "execution_count": 281,
     "metadata": {},
     "output_type": "execute_result"
    }
   ],
   "source": [
    "c"
   ]
  },
  {
   "cell_type": "markdown",
   "metadata": {},
   "source": [
    "Convert number of days to date. Data start from 2020 February 24. Then we have skipped 15 days."
   ]
  },
  {
   "cell_type": "code",
   "execution_count": 275,
   "metadata": {},
   "outputs": [
    {
     "data": {
      "text/plain": [
       "'2020-03-10T18:00:00'"
      ]
     },
     "execution_count": 275,
     "metadata": {},
     "output_type": "execute_result"
    }
   ],
   "source": [
    "from datetime import datetime\n",
    "from datetime import timedelta  \n",
    "data_eff = datetime.strptime(data['data'][skip], '%Y-%m-%dT%H:%M:%S')\n",
    "data['data'][skip]"
   ]
  },
  {
   "cell_type": "markdown",
   "metadata": {},
   "source": [
    "Now we are able to calculate the end of COVID-19 outbreak, simply converting `x0` to a date."
   ]
  },
  {
   "cell_type": "code",
   "execution_count": 290,
   "metadata": {},
   "outputs": [
    {
     "data": {
      "text/plain": [
       "datetime.datetime(2020, 6, 13, 18, 0)"
      ]
     },
     "execution_count": 290,
     "metadata": {},
     "output_type": "execute_result"
    }
   ],
   "source": [
    "def n_to_date(n):\n",
    "    return data_eff + timedelta(days=n-skip)\n",
    "\n",
    "n_to_date(int(x0))"
   ]
  },
  {
   "cell_type": "markdown",
   "metadata": {},
   "source": [
    "Finally, we implement a function to predict the value of EPI for a generic date."
   ]
  },
  {
   "cell_type": "code",
   "execution_count": 291,
   "metadata": {},
   "outputs": [
    {
     "data": {
      "text/plain": [
       "array([[0.05144282]])"
      ]
     },
     "execution_count": 291,
     "metadata": {},
     "output_type": "execute_result"
    }
   ],
   "source": [
    "def date_to_n(my_date):\n",
    "    initial_date = datetime.strptime(data['data'][0], '%Y-%m-%dT%H:%M:%S')\n",
    "    return (my_date - initial_date).days + 1\n",
    "\n",
    "my_date = datetime.strptime(\"2020-04-25\", '%Y-%m-%d')\n",
    "n = date_to_n(my_date)\n",
    "predict = skewnorm([[n]],*popt)\n",
    "predict"
   ]
  },
  {
   "cell_type": "code",
   "execution_count": null,
   "metadata": {},
   "outputs": [],
   "source": []
  }
 ],
 "metadata": {
  "kernelspec": {
   "display_name": "Python 3",
   "language": "python",
   "name": "python3"
  },
  "language_info": {
   "codemirror_mode": {
    "name": "ipython",
    "version": 3
   },
   "file_extension": ".py",
   "mimetype": "text/x-python",
   "name": "python",
   "nbconvert_exporter": "python",
   "pygments_lexer": "ipython3",
   "version": "3.8.1"
  }
 },
 "nbformat": 4,
 "nbformat_minor": 4
}
