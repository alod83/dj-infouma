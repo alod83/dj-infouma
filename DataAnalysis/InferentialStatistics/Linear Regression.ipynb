{
 "cells": [
  {
   "cell_type": "markdown",
   "metadata": {},
   "source": [
    "# Linear Regression\n",
    "This notebook analyses data related to the Italian COVID-19 trend. Data are released by the Italian Protezione Civile. For more details, please give a look at: https://towardsdatascience.com/italian-covid-19-analysis-with-python-1bdb0e64d5ac\n",
    "\n",
    "## Getting Started\n",
    "Firstly, we import data from the Github repository of the Italian Protezione Civile and then we calculate the Epidemics Progression Index (EPI). We extract columns `totale_casi`, which contains the total number of covid-19 infections since the epidemics began, and `tamponi`, which contains the total number of covid-19 swabs since the epidemics began. We store EPI in the `y` variable. Finally, we print all the list of dates for which we have data (`data['data']`)."
   ]
  },
  {
   "cell_type": "code",
   "execution_count": 67,
   "metadata": {
    "scrolled": true
   },
   "outputs": [
    {
     "data": {
      "text/html": [
       "<div>\n",
       "<style scoped>\n",
       "    .dataframe tbody tr th:only-of-type {\n",
       "        vertical-align: middle;\n",
       "    }\n",
       "\n",
       "    .dataframe tbody tr th {\n",
       "        vertical-align: top;\n",
       "    }\n",
       "\n",
       "    .dataframe thead th {\n",
       "        text-align: right;\n",
       "    }\n",
       "</style>\n",
       "<table border=\"1\" class=\"dataframe\">\n",
       "  <thead>\n",
       "    <tr style=\"text-align: right;\">\n",
       "      <th></th>\n",
       "      <th>data</th>\n",
       "      <th>stato</th>\n",
       "      <th>ricoverati_con_sintomi</th>\n",
       "      <th>terapia_intensiva</th>\n",
       "      <th>totale_ospedalizzati</th>\n",
       "      <th>isolamento_domiciliare</th>\n",
       "      <th>totale_positivi</th>\n",
       "      <th>variazione_totale_positivi</th>\n",
       "      <th>nuovi_positivi</th>\n",
       "      <th>dimessi_guariti</th>\n",
       "      <th>deceduti</th>\n",
       "      <th>totale_casi</th>\n",
       "      <th>tamponi</th>\n",
       "      <th>casi_testati</th>\n",
       "      <th>note_it</th>\n",
       "      <th>note_en</th>\n",
       "    </tr>\n",
       "  </thead>\n",
       "  <tbody>\n",
       "    <tr>\n",
       "      <th>0</th>\n",
       "      <td>2020-02-24T18:00:00</td>\n",
       "      <td>ITA</td>\n",
       "      <td>101</td>\n",
       "      <td>26</td>\n",
       "      <td>127</td>\n",
       "      <td>94</td>\n",
       "      <td>221</td>\n",
       "      <td>0</td>\n",
       "      <td>221</td>\n",
       "      <td>1</td>\n",
       "      <td>7</td>\n",
       "      <td>229</td>\n",
       "      <td>4324</td>\n",
       "      <td>NaN</td>\n",
       "      <td>NaN</td>\n",
       "      <td>NaN</td>\n",
       "    </tr>\n",
       "    <tr>\n",
       "      <th>1</th>\n",
       "      <td>2020-02-25T18:00:00</td>\n",
       "      <td>ITA</td>\n",
       "      <td>114</td>\n",
       "      <td>35</td>\n",
       "      <td>150</td>\n",
       "      <td>162</td>\n",
       "      <td>311</td>\n",
       "      <td>90</td>\n",
       "      <td>93</td>\n",
       "      <td>1</td>\n",
       "      <td>10</td>\n",
       "      <td>322</td>\n",
       "      <td>8623</td>\n",
       "      <td>NaN</td>\n",
       "      <td>NaN</td>\n",
       "      <td>NaN</td>\n",
       "    </tr>\n",
       "    <tr>\n",
       "      <th>2</th>\n",
       "      <td>2020-02-26T18:00:00</td>\n",
       "      <td>ITA</td>\n",
       "      <td>128</td>\n",
       "      <td>36</td>\n",
       "      <td>164</td>\n",
       "      <td>221</td>\n",
       "      <td>385</td>\n",
       "      <td>74</td>\n",
       "      <td>78</td>\n",
       "      <td>3</td>\n",
       "      <td>12</td>\n",
       "      <td>400</td>\n",
       "      <td>9587</td>\n",
       "      <td>NaN</td>\n",
       "      <td>NaN</td>\n",
       "      <td>NaN</td>\n",
       "    </tr>\n",
       "    <tr>\n",
       "      <th>3</th>\n",
       "      <td>2020-02-27T18:00:00</td>\n",
       "      <td>ITA</td>\n",
       "      <td>248</td>\n",
       "      <td>56</td>\n",
       "      <td>304</td>\n",
       "      <td>284</td>\n",
       "      <td>588</td>\n",
       "      <td>203</td>\n",
       "      <td>250</td>\n",
       "      <td>45</td>\n",
       "      <td>17</td>\n",
       "      <td>650</td>\n",
       "      <td>12014</td>\n",
       "      <td>NaN</td>\n",
       "      <td>NaN</td>\n",
       "      <td>NaN</td>\n",
       "    </tr>\n",
       "    <tr>\n",
       "      <th>4</th>\n",
       "      <td>2020-02-28T18:00:00</td>\n",
       "      <td>ITA</td>\n",
       "      <td>345</td>\n",
       "      <td>64</td>\n",
       "      <td>409</td>\n",
       "      <td>412</td>\n",
       "      <td>821</td>\n",
       "      <td>233</td>\n",
       "      <td>238</td>\n",
       "      <td>46</td>\n",
       "      <td>21</td>\n",
       "      <td>888</td>\n",
       "      <td>15695</td>\n",
       "      <td>NaN</td>\n",
       "      <td>NaN</td>\n",
       "      <td>NaN</td>\n",
       "    </tr>\n",
       "  </tbody>\n",
       "</table>\n",
       "</div>"
      ],
      "text/plain": [
       "                  data stato  ricoverati_con_sintomi  terapia_intensiva  \\\n",
       "0  2020-02-24T18:00:00   ITA                     101                 26   \n",
       "1  2020-02-25T18:00:00   ITA                     114                 35   \n",
       "2  2020-02-26T18:00:00   ITA                     128                 36   \n",
       "3  2020-02-27T18:00:00   ITA                     248                 56   \n",
       "4  2020-02-28T18:00:00   ITA                     345                 64   \n",
       "\n",
       "   totale_ospedalizzati  isolamento_domiciliare  totale_positivi  \\\n",
       "0                   127                      94              221   \n",
       "1                   150                     162              311   \n",
       "2                   164                     221              385   \n",
       "3                   304                     284              588   \n",
       "4                   409                     412              821   \n",
       "\n",
       "   variazione_totale_positivi  nuovi_positivi  dimessi_guariti  deceduti  \\\n",
       "0                           0             221                1         7   \n",
       "1                          90              93                1        10   \n",
       "2                          74              78                3        12   \n",
       "3                         203             250               45        17   \n",
       "4                         233             238               46        21   \n",
       "\n",
       "   totale_casi  tamponi  casi_testati note_it note_en  \n",
       "0          229     4324           NaN     NaN     NaN  \n",
       "1          322     8623           NaN     NaN     NaN  \n",
       "2          400     9587           NaN     NaN     NaN  \n",
       "3          650    12014           NaN     NaN     NaN  \n",
       "4          888    15695           NaN     NaN     NaN  "
      ]
     },
     "execution_count": 67,
     "metadata": {},
     "output_type": "execute_result"
    }
   ],
   "source": [
    "import pandas as pd \n",
    "\n",
    "data = pd.read_csv(\"https://raw.githubusercontent.com/pcm-dpc/COVID-19/master/dati-andamento-nazionale/dpc-covid19-ita-andamento-nazionale.csv\") \n",
    "data.head()"
   ]
  },
  {
   "cell_type": "markdown",
   "metadata": {},
   "source": [
    "Then, we calculate the metrics to analyse: Epidemics Progresion Index (EPI). "
   ]
  },
  {
   "cell_type": "code",
   "execution_count": null,
   "metadata": {},
   "outputs": [],
   "source": [
    "tc = data['totale_casi']\n",
    "tt = data['tamponi']\n",
    "y = []\n",
    "tt_increase = []\n",
    "for i in range(1, len(tt)):\n",
    "    current_epi = (tc[i] - tc[i-1])/(tt[i]-tt[i-1])*100\n",
    "    tt_increase.append(tt[i]-tt[i-1])\n",
    "    y.append(current_epi)\n",
    "\n",
    "X = []\n",
    "for i in range(1, len(y)+1):\n",
    "    X.append([i])\n"
   ]
  },
  {
   "cell_type": "markdown",
   "metadata": {},
   "source": [
    "We plot the EPI trends."
   ]
  },
  {
   "cell_type": "code",
   "execution_count": 51,
   "metadata": {},
   "outputs": [
    {
     "data": {
      "image/png": "[encoded data removed]",
      "text/plain": [
       "<Figure size 432x288 with 1 Axes>"
      ]
     },
     "metadata": {
      "needs_background": "light"
     },
     "output_type": "display_data"
    }
   ],
   "source": [
    "import matplotlib.pyplot as plt\n",
    "import matplotlib\n",
    "import numpy as np\n",
    "\n",
    "\n",
    "def my_plot(X,y):\n",
    "    plt.scatter(X, y, color=\"black\", linewidth=1)\n",
    "\n",
    "    plt.grid()\n",
    "    plt.xlabel('Number of days')\n",
    "    plt.ylabel('EPI')\n",
    "    plt.show()\n",
    "\n",
    "my_plot(X,y)"
   ]
  },
  {
   "cell_type": "markdown",
   "metadata": {},
   "source": [
    "We discover that, starting from day 30, EPI starts to decrease. Thus, we can consider only data from day 30."
   ]
  },
  {
   "cell_type": "code",
   "execution_count": 52,
   "metadata": {},
   "outputs": [
    {
     "data": {
      "image/png": "[encoded data removed]",
      "text/plain": [
       "<Figure size 432x288 with 1 Axes>"
      ]
     },
     "metadata": {
      "needs_background": "light"
     },
     "output_type": "display_data"
    }
   ],
   "source": [
    "skip = 30\n",
    "X = X[skip:]\n",
    "y = y[skip:]\n",
    "\n",
    "my_plot(X,y)"
   ]
  },
  {
   "cell_type": "markdown",
   "metadata": {},
   "source": [
    "## Extract a sample\n",
    "We extract a sample from `X` and `y`, i.e. `X_train` and `y_train`. We will test the model only on the sample."
   ]
  },
  {
   "cell_type": "code",
   "execution_count": 53,
   "metadata": {},
   "outputs": [],
   "source": [
    "from sklearn.model_selection import train_test_split \n",
    "\n",
    "X_train, X_test, y_train, y_test = train_test_split(X, y, test_size=0.2, random_state=0)"
   ]
  },
  {
   "cell_type": "markdown",
   "metadata": {},
   "source": [
    "## Model Definition\n",
    "We can approximate data through a linear regression. In order to discover parameters (intercept, coefficient) related to the regression, we use the function `fit()` applied to the sample. "
   ]
  },
  {
   "cell_type": "code",
   "execution_count": 54,
   "metadata": {},
   "outputs": [
    {
     "name": "stdout",
     "output_type": "stream",
     "text": [
      "32.83926882208768\n",
      "[-0.49963276]\n"
     ]
    }
   ],
   "source": [
    "from sklearn.linear_model import LinearRegression\n",
    "\n",
    "regressor = LinearRegression()  \n",
    "regressor.fit(X_train, y_train) \n",
    "\n",
    "#To retrieve the intercept:\n",
    "print(regressor.intercept_)\n",
    "#For retrieving the slope:\n",
    "print(regressor.coef_)"
   ]
  },
  {
   "cell_type": "markdown",
   "metadata": {},
   "source": [
    "## Model Evaluation\n",
    "We test the model on the remaining part of `X`, i.e. `X_test`. We use the function `predict()` to understand which value will predict the model on `X_test`. "
   ]
  },
  {
   "cell_type": "code",
   "execution_count": 55,
   "metadata": {},
   "outputs": [],
   "source": [
    "y_pred = regressor.predict(X_test)"
   ]
  },
  {
   "cell_type": "markdown",
   "metadata": {},
   "source": [
    "We compare predicted values, with actual values."
   ]
  },
  {
   "cell_type": "code",
   "execution_count": 59,
   "metadata": {},
   "outputs": [
    {
     "data": {
      "text/html": [
       "<div>\n",
       "<style scoped>\n",
       "    .dataframe tbody tr th:only-of-type {\n",
       "        vertical-align: middle;\n",
       "    }\n",
       "\n",
       "    .dataframe tbody tr th {\n",
       "        vertical-align: top;\n",
       "    }\n",
       "\n",
       "    .dataframe thead th {\n",
       "        text-align: right;\n",
       "    }\n",
       "</style>\n",
       "<table border=\"1\" class=\"dataframe\">\n",
       "  <thead>\n",
       "    <tr style=\"text-align: right;\">\n",
       "      <th></th>\n",
       "      <th>Actual</th>\n",
       "      <th>Predicted</th>\n",
       "    </tr>\n",
       "  </thead>\n",
       "  <tbody>\n",
       "    <tr>\n",
       "      <th>0</th>\n",
       "      <td>16.853330</td>\n",
       "      <td>16.351388</td>\n",
       "    </tr>\n",
       "    <tr>\n",
       "      <th>1</th>\n",
       "      <td>3.969516</td>\n",
       "      <td>3.360936</td>\n",
       "    </tr>\n",
       "    <tr>\n",
       "      <th>2</th>\n",
       "      <td>7.422601</td>\n",
       "      <td>10.855427</td>\n",
       "    </tr>\n",
       "    <tr>\n",
       "      <th>3</th>\n",
       "      <td>12.606245</td>\n",
       "      <td>12.354326</td>\n",
       "    </tr>\n",
       "    <tr>\n",
       "      <th>4</th>\n",
       "      <td>5.235391</td>\n",
       "      <td>4.360202</td>\n",
       "    </tr>\n",
       "    <tr>\n",
       "      <th>5</th>\n",
       "      <td>6.008914</td>\n",
       "      <td>5.359467</td>\n",
       "    </tr>\n",
       "  </tbody>\n",
       "</table>\n",
       "</div>"
      ],
      "text/plain": [
       "      Actual  Predicted\n",
       "0  16.853330  16.351388\n",
       "1   3.969516   3.360936\n",
       "2   7.422601  10.855427\n",
       "3  12.606245  12.354326\n",
       "4   5.235391   4.360202\n",
       "5   6.008914   5.359467"
      ]
     },
     "execution_count": 59,
     "metadata": {},
     "output_type": "execute_result"
    }
   ],
   "source": [
    "df = pd.DataFrame({'Actual': np.array(y_test).flatten(), 'Predicted': y_pred.flatten()})\n",
    "df"
   ]
  },
  {
   "cell_type": "markdown",
   "metadata": {},
   "source": [
    "We calculate all the evaluation metrics. Please, give a look at: https://www.datavedas.com/model-evaluation-regression-models/ for more details.\n",
    "\n",
    "We want the value of RMSE to be as low as possible, as lower the RMSE value is, the better the model is with its predictions.\n",
    "\n",
    "Other methods to test the model can be found in this [interesting article](https://towardsdatascience.com/how-do-you-check-the-quality-of-your-regression-model-in-python-fa61759ff685)."
   ]
  },
  {
   "cell_type": "code",
   "execution_count": 60,
   "metadata": {},
   "outputs": [
    {
     "name": "stdout",
     "output_type": "stream",
     "text": [
      "Mean Absolute Error: 1.0533173922853838\n",
      "Mean Squared Error: 2.2763028140482664\n",
      "Root Mean Squared Error: 1.5087421297386332\n"
     ]
    }
   ],
   "source": [
    "from sklearn import metrics\n",
    "print('Mean Absolute Error:', metrics.mean_absolute_error(y_test, y_pred))  \n",
    "print('Mean Squared Error:', metrics.mean_squared_error(y_test, y_pred))  \n",
    "print('Root Mean Squared Error:', np.sqrt(metrics.mean_squared_error(y_test, y_pred)))"
   ]
  },
  {
   "cell_type": "markdown",
   "metadata": {},
   "source": [
    "## Extend the model to the whole population\n",
    "The whole population is composed of `X` and `y`. Simply, plot results."
   ]
  },
  {
   "cell_type": "code",
   "execution_count": 70,
   "metadata": {},
   "outputs": [
    {
     "data": {
      "image/png": "[encoded data removed]",
      "text/plain": [
       "<Figure size 432x288 with 1 Axes>"
      ]
     },
     "metadata": {
      "needs_background": "light"
     },
     "output_type": "display_data"
    }
   ],
   "source": [
    "plt.scatter(X_train, y_train, color=\"gray\", label='train')\n",
    "plt.scatter(X_test, y_test,  color='green', label='test')\n",
    "plt.plot(X_test, y_pred, color='red', linewidth=2, label='prediction')\n",
    "plt.legend()\n",
    "\n",
    "plt.show()"
   ]
  },
  {
   "cell_type": "markdown",
   "metadata": {},
   "source": [
    "## Future Trend Prediction\n",
    "Predict the future trend for the next 20 days."
   ]
  },
  {
   "cell_type": "code",
   "execution_count": 74,
   "metadata": {},
   "outputs": [
    {
     "data": {
      "image/png": "[encoded data removed]",
      "text/plain": [
       "<Figure size 432x288 with 1 Axes>"
      ]
     },
     "metadata": {
      "needs_background": "light"
     },
     "output_type": "display_data"
    }
   ],
   "source": [
    "X_future = []\n",
    "n_start = skip+len(X)\n",
    "for i in range(n_start, n_start + 20):\n",
    "    X_future.append([i])\n",
    "\n",
    "y_future = regressor.predict(X_future)\n",
    "\n",
    "plt.scatter(X_train, y_train, color=\"gray\", label='train')\n",
    "plt.scatter(X_test, y_test,  color='green', label='test')\n",
    "plt.plot(X_future, y_future, color='red', linewidth=2, label='prediction')\n",
    "plt.legend()\n",
    "plt.grid()\n",
    "plt.show()"
   ]
  },
  {
   "cell_type": "markdown",
   "metadata": {},
   "source": [
    "Predict the zero value, i.e when the EPI will be 0.\n",
    "\n",
    "Solve the system of equations: `y = 0` and `y = ax+b`. `x = -b/a`"
   ]
  },
  {
   "cell_type": "code",
   "execution_count": 77,
   "metadata": {},
   "outputs": [
    {
     "data": {
      "text/plain": [
       "array([65.72681301])"
      ]
     },
     "execution_count": 77,
     "metadata": {},
     "output_type": "execute_result"
    }
   ],
   "source": [
    "x0 = - (regressor.intercept_/regressor.coef_)\n",
    "x0"
   ]
  },
  {
   "cell_type": "markdown",
   "metadata": {},
   "source": [
    "Convert number of days to date. Data start from 2020 February 24. Then we have skipped 30 days."
   ]
  },
  {
   "cell_type": "code",
   "execution_count": 81,
   "metadata": {},
   "outputs": [
    {
     "data": {
      "text/plain": [
       "'2020-03-25T17:00:00'"
      ]
     },
     "execution_count": 81,
     "metadata": {},
     "output_type": "execute_result"
    }
   ],
   "source": [
    "from datetime import datetime\n",
    "from datetime import timedelta  \n",
    "data_eff = datetime.strptime(data['data'][skip], '%Y-%m-%dT%H:%M:%S')\n",
    "data['data'][skip]"
   ]
  },
  {
   "cell_type": "code",
   "execution_count": 82,
   "metadata": {},
   "outputs": [
    {
     "data": {
      "text/plain": [
       "datetime.datetime(2020, 4, 29, 17, 0)"
      ]
     },
     "execution_count": 82,
     "metadata": {},
     "output_type": "execute_result"
    }
   ],
   "source": [
    "def n_to_date(n):\n",
    "    return data_eff + timedelta(days=n-skip)\n",
    "\n",
    "n_to_date(int(x0))"
   ]
  },
  {
   "cell_type": "code",
   "execution_count": 85,
   "metadata": {},
   "outputs": [
    {
     "data": {
      "text/plain": [
       "2.3616706182024565"
      ]
     },
     "execution_count": 85,
     "metadata": {},
     "output_type": "execute_result"
    }
   ],
   "source": [
    "def date_to_n(my_date):\n",
    "    initial_date = datetime.strptime(data['data'][0], '%Y-%m-%dT%H:%M:%S')\n",
    "    return (my_date - initial_date).days + 1\n",
    "\n",
    "my_date = datetime.strptime(\"2020-04-25\", '%Y-%m-%d')\n",
    "n = date_to_n(my_date)\n",
    "predict = regressor.predict([[n]])\n",
    "predict[0]"
   ]
  },
  {
   "cell_type": "code",
   "execution_count": null,
   "metadata": {},
   "outputs": [],
   "source": []
  }
 ],
 "metadata": {
  "kernelspec": {
   "display_name": "Python 3",
   "language": "python",
   "name": "python3"
  },
  "language_info": {
   "codemirror_mode": {
    "name": "ipython",
    "version": 3
   },
   "file_extension": ".py",
   "mimetype": "text/x-python",
   "name": "python",
   "nbconvert_exporter": "python",
   "pygments_lexer": "ipython3",
   "version": "3.8.1"
  }
 },
 "nbformat": 4,
 "nbformat_minor": 4
}
